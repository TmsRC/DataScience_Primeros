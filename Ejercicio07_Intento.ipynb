{
 "cells": [
  {
   "cell_type": "code",
   "execution_count": 1,
   "metadata": {},
   "outputs": [],
   "source": [
    "import numpy as np\n",
    "import matplotlib.pyplot as plt"
   ]
  },
  {
   "cell_type": "code",
   "execution_count": 2,
   "metadata": {},
   "outputs": [],
   "source": [
    "datosFull = np.loadtxt('notas_andes.dat', skiprows=1)\n",
    "Y = datosFull[:,4]\n",
    "X = datosFull[:,:4]\n",
    "\n",
    "Sigma = 0.1*np.ones(len(Y))"
   ]
  },
  {
   "cell_type": "code",
   "execution_count": 3,
   "metadata": {},
   "outputs": [],
   "source": [
    "def prior(betas):\n",
    "    return np.prod((betas>=-10)*(betas<=10))\n",
    "\n",
    "def evaluar(X,betas):\n",
    "    coefs = betas[1:]\n",
    "    interceptos = betas[0]\n",
    "    return np.matmul(X,coefs)+interceptos\n",
    "\n",
    "def log_verosimilitud_modelo(betas,X,Y,Sigma):\n",
    "    const = np.log(1/(Sigma*np.sqrt(2*np.pi)))\n",
    "    #print(np.matmul(X_k,betas)[0])\n",
    "    delta = evaluar(X,betas) - Y\n",
    "    chi2 = (delta/Sigma)**2\n",
    "    return np.sum(const-chi2/2)"
   ]
  },
  {
   "cell_type": "code",
   "execution_count": 11,
   "metadata": {},
   "outputs": [],
   "source": [
    "N = 300000\n",
    "betas = [5*np.random.rand(5)-2.5]\n",
    "log_pos = [np.log(prior(betas[0]))+log_verosimilitud_modelo(betas[0],X,Y,Sigma)]\n",
    "for i in range(0,N):\n",
    "    paso = np.random.normal(loc=0.0,scale=1.0,size=len(betas[i]))\n",
    "    nuevos_betas = betas[i]+paso\n",
    "    log_nuevo = np.log(prior(nuevos_betas))+log_verosimilitud_modelo(nuevos_betas,X,Y,Sigma)\n",
    "    log_viejo = np.log(prior(betas[i]))+log_verosimilitud_modelo(betas[i],X,Y,Sigma)\n",
    "    r = min(0,log_nuevo-log_viejo)\n",
    "    alfa = np.random.rand()\n",
    "    if np.exp(r)>=alfa:\n",
    "        betas.append(nuevos_betas)\n",
    "        log_pos.append(log_nuevo)\n",
    "    else:\n",
    "        betas.append(betas[i])\n",
    "        log_pos.append(log_viejo)"
   ]
  },
  {
   "cell_type": "code",
   "execution_count": 12,
   "metadata": {},
   "outputs": [
    {
     "name": "stdout",
     "output_type": "stream",
     "text": [
      "[1.88010963 0.19023211 0.02161172 0.17456531 0.14951573]\n",
      "Parámetro 0\n",
      "Incertidumbre: 6.6857318127283e-07\n",
      "Parámetro 1\n",
      "Incertidumbre: 6.6857318127283e-07\n",
      "Parámetro 2\n",
      "Incertidumbre: 6.6857318127283e-07\n",
      "Parámetro 3\n",
      "Incertidumbre: 6.6857318127283e-07\n",
      "Parámetro 4\n",
      "Incertidumbre: 6.6857318127283e-07\n"
     ]
    },
    {
     "data": {
      "text/plain": [
       "<matplotlib.collections.PathCollection at 0x7f0c39f379d0>"
      ]
     },
     "execution_count": 12,
     "metadata": {},
     "output_type": "execute_result"
    },
    {
     "data": {
      "image/png": "[encoded data removed]",
      "text/plain": [
       "<Figure size 432x288 with 1 Axes>"
      ]
     },
     "metadata": {
      "needs_background": "light"
     },
     "output_type": "display_data"
    }
   ],
   "source": [
    "posCero = np.argmax(log_pos)\n",
    "print(betas[posCero])\n",
    "print(np.max)\n",
    "for i in range(0,5):\n",
    "    betaBest = betas[posCero]\n",
    "    betaAnt = betaBest\n",
    "    betaAnt[i]-=0.01\n",
    "    betaPost = betaBest\n",
    "    betaPost[i]+=0.01\n",
    "    log_posteriorAnt = np.log(prior(betaAnt))+log_verosimilitud_modelo(betaAnt,X,Y,Sigma) + log_pos[posCero]\n",
    "    log_posteriorPost = np.log(prior(betaPost))+log_verosimilitud_modelo(betaPost,X,Y,Sigma) + log_pos[posCero]\n",
    "    \n",
    "    d2 = (log_posteriorPost-2*log_pos[posCero]+log_posteriorAnt)/0.01**2\n",
    "    Inc = (-d2)**-1\n",
    "    print('Parámetro '+str(i))\n",
    "    print('Incertidumbre: '+str(Inc))\n",
    "\n",
    "plt.figure()\n",
    "plt.scatter(Y,evaluar(X,betas[posCero]))"
   ]
  },
  {
   "cell_type": "code",
   "execution_count": null,
   "metadata": {},
   "outputs": [],
   "source": []
  }
 ],
 "metadata": {
  "kernelspec": {
   "display_name": "Python 3",
   "language": "python",
   "name": "python3"
  },
  "language_info": {
   "codemirror_mode": {
    "name": "ipython",
    "version": 3
   },
   "file_extension": ".py",
   "mimetype": "text/x-python",
   "name": "python",
   "nbconvert_exporter": "python",
   "pygments_lexer": "ipython3",
   "version": "3.7.6"
  }
 },
 "nbformat": 4,
 "nbformat_minor": 4
}
