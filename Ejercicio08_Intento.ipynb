{
 "cells": [
  {
   "cell_type": "code",
   "execution_count": null,
   "metadata": {},
   "outputs": [],
   "source": [
    "import numpy as np\n",
    "import matplotlib.pyplot as plt"
   ]
  },
  {
   "cell_type": "code",
   "execution_count": null,
   "metadata": {},
   "outputs": [],
   "source": [
    "datosFull = np.loadtxt('data_to_fit.txt')\n",
    "X = datosFull[:,0]\n",
    "Y = datosFull[:,1]\n",
    "SigmaY = datosFull[:,2]"
   ]
  },
  {
   "cell_type": "code",
   "execution_count": null,
   "metadata": {},
   "outputs": [],
   "source": [
    "def model_A(x,params):\n",
    "    y = params[0] + params[1]*x + params[2]*x**2\n",
    "    return y\n",
    "\n",
    "def model_B(x,params):\n",
    "    y = params[0]*np.exp(-0.5*(x-params[1])**2/params[2]**2)\n",
    "    return y"
   ]
  },
  {
   "cell_type": "code",
   "execution_count": null,
   "metadata": {},
   "outputs": [],
   "source": [
    "def log_prior(w):\n",
    "    return 0\n",
    "\n",
    "def log_verosimilitud_modelo(betas,X,Y,Sigma,modelo):\n",
    "    delta = modelo(X,betas) - Y\n",
    "    chi2 = (delta/Sigma)**2\n",
    "    return np.sum(-chi2/2)"
   ]
  },
  {
   "cell_type": "code",
   "execution_count": null,
   "metadata": {},
   "outputs": [],
   "source": [
    "def MCMC(X,Y,Sigma,num_coefs,N,modelo):\n",
    "    betas = [np.zeros(num_coefs)]\n",
    "    for i in range(0,N):\n",
    "        paso = np.random.normal(loc=0.0,scale=1,size=len(betas[i]))\n",
    "        nuevos_betas = betas[i]+paso\n",
    "        log_nuevo = log_verosimilitud_modelo(nuevos_betas,X,Y,Sigma,modelo) + log_prior(nuevos_betas)\n",
    "        log_viejo = log_verosimilitud_modelo(betas[i],X,Y,Sigma,modelo) + log_prior(betas[i])\n",
    "        r = min(0,log_nuevo-log_viejo)\n",
    "        alfa = np.random.rand()\n",
    "        if np.exp(r)>=alfa:\n",
    "            betas.append(nuevos_betas)\n",
    "        else:\n",
    "            betas.append(betas[i])\n",
    "            \n",
    "    return np.array(betas[int(N/2):])"
   ]
  },
  {
   "cell_type": "code",
   "execution_count": null,
   "metadata": {},
   "outputs": [],
   "source": [
    "betasB = MCMC(X,Y,SigmaY,3,20000,model_B).mean(axis=0)\n",
    "betasA = MCMC(X,Y,SigmaY,3,20000,model_A).mean(axis=0)"
   ]
  },
  {
   "cell_type": "code",
   "execution_count": null,
   "metadata": {},
   "outputs": [],
   "source": [
    "x_test = np.linspace(3,6.5)\n",
    "plt.figure()\n",
    "plt.scatter(X,Y)\n",
    "plt.plot(x_test,model_B(x_test,betasB),c='b')\n",
    "plt.plot(x_test,model_A(x_test,betasA),c='r')"
   ]
  },
  {
   "cell_type": "code",
   "execution_count": null,
   "metadata": {},
   "outputs": [],
   "source": [
    "log_MB = log_verosimilitud_modelo(betasB,X,Y,SigmaY,model_B)\n",
    "log_MA = log_verosimilitud_modelo(betasA,X,Y,SigmaY,model_A)\n",
    "BayesFactor = np.sum(np.exp(log_MB)*(log_MB-log_MA))\n",
    "\n",
    "print(BayesFactor)\n",
    "print(np.sum(np.exp(log_MA)*(log_MA-log_MB)))"
   ]
  }
 ],
 "metadata": {
  "kernelspec": {
   "display_name": "Python 3",
   "language": "python",
   "name": "python3"
  },
  "language_info": {
   "codemirror_mode": {
    "name": "ipython",
    "version": 3
   },
   "file_extension": ".py",
   "mimetype": "text/x-python",
   "name": "python",
   "nbconvert_exporter": "python",
   "pygments_lexer": "ipython3",
   "version": "3.7.6"
  }
 },
 "nbformat": 4,
 "nbformat_minor": 4
}
