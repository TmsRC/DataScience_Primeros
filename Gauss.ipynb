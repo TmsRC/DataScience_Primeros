{
 "cells": [
  {
   "cell_type": "code",
   "execution_count": 1,
   "metadata": {},
   "outputs": [],
   "source": [
    "import numpy as np\n",
    "import matplotlib.pyplot as plt"
   ]
  },
  {
   "cell_type": "code",
   "execution_count": 33,
   "metadata": {},
   "outputs": [],
   "source": [
    "def prior(mu):\n",
    "    return np.ones(len(mu))\n",
    "\n",
    "def verosimilitud(x,mu,sigma):\n",
    "    norm = 1/(2*np.pi*sigma**2)**(1/2)\n",
    "    return np.exp(-(x-mu)**2/(2*sigma**2))*norm\n",
    "\n",
    "def mu_sigma(x_k,sigma_k):\n",
    "    w_k = sigma_k**-2\n",
    "    mu = np.sum(x_k*w_k)/np.sum(w_k)\n",
    "    sigma = np.sum(w_k)\n",
    "    return mu,sigma"
   ]
  },
  {
   "cell_type": "code",
   "execution_count": 34,
   "metadata": {},
   "outputs": [
    {
     "name": "stderr",
     "output_type": "stream",
     "text": [
      "/srv/conda/envs/notebook/lib/python3.7/site-packages/ipykernel_launcher.py:9: RuntimeWarning: divide by zero encountered in log\n",
      "  if __name__ == '__main__':\n"
     ]
    }
   ],
   "source": [
    "mu = np.linspace(-20,20,1000)\n",
    "#x_k = np.linspace(-10,15,10)\n",
    "x_k = np.random.normal(loc=7,scale=2,size=20)\n",
    "sigma_k = np.linspace(1E-3,2,len(x_k))\n",
    "\n",
    "# Método 'manual' ---------------------------------------------\n",
    "log_V = np.zeros(len(mu))\n",
    "for i in range(len(x_k)):\n",
    "    log_V += np.log(verosimilitud(x_k[i],mu,sigma_k[i]))\n",
    "    #print(V_i)\n",
    "\n",
    "log_pos = np.log(prior(mu))+log_V\n",
    "log_evidencia = np.amax(log_pos)\n",
    "log_pos = log_pos-log_evidencia\n",
    "posterior = np.exp(log_pos)\n",
    "posterior = posterior/np.trapz(posterior,mu)\n",
    "\n",
    "cero = np.argmax(posterior)\n",
    "mu_0 = mu[cero]\n",
    "d2 = (log_pos[cero+1] - 2*log_pos[cero] + log_pos[cero-1]) / ((mu[1]-mu[0])**2)\n",
    "sigma_0 = (-d2)**(-1/2)\n",
    "\n",
    "# Método directo\n",
    "mu_0,sigma_0 = mu_sigma(x_k,sigma_k)"
   ]
  },
  {
   "cell_type": "code",
   "execution_count": 35,
   "metadata": {},
   "outputs": [
    {
     "data": {
      "text/plain": [
       "Text(0.5, 1.0, '$\\\\mu$ = 5.69 $\\\\pm$ 20.01')"
      ]
     },
     "execution_count": 35,
     "metadata": {},
     "output_type": "execute_result"
    },
    {
     "data": {
      "image/png": "[encoded data removed]",
      "text/plain": [
       "<Figure size 432x288 with 1 Axes>"
      ]
     },
     "metadata": {
      "needs_background": "light"
     },
     "output_type": "display_data"
    }
   ],
   "source": [
    "plt.figure()\n",
    "plt.scatter(mu,posterior)\n",
    "plt.xlabel(r'$\\mu$'.format())\n",
    "plt.ylabel('Probabilidad posterior')\n",
    "plt.title(r'$\\mu$ = {:.2f} $\\pm$ {:.2f}'.format(mu_0,sigma_0))"
   ]
  },
  {
   "cell_type": "code",
   "execution_count": null,
   "metadata": {},
   "outputs": [],
   "source": []
  }
 ],
 "metadata": {
  "kernelspec": {
   "display_name": "Python 3",
   "language": "python",
   "name": "python3"
  },
  "language_info": {
   "codemirror_mode": {
    "name": "ipython",
    "version": 3
   },
   "file_extension": ".py",
   "mimetype": "text/x-python",
   "name": "python",
   "nbconvert_exporter": "python",
   "pygments_lexer": "ipython3",
   "version": "3.7.6"
  }
 },
 "nbformat": 4,
 "nbformat_minor": 4
}
