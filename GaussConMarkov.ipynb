{
 "cells": [
  {
   "cell_type": "code",
   "execution_count": 1,
   "metadata": {},
   "outputs": [],
   "source": [
    "import numpy as np\n",
    "import matplotlib.pyplot as plt"
   ]
  },
  {
   "cell_type": "code",
   "execution_count": 2,
   "metadata": {},
   "outputs": [],
   "source": [
    "def prior(mu):\n",
    "    return np.ones(len(mu))\n",
    "\n",
    "def verosimilitud(x,mu,sigma):\n",
    "    norm = 1/(2*np.pi*sigma**2)**(1/2)\n",
    "    return np.exp(-(x-mu)**2/(2*sigma**2))*norm\n",
    "\n",
    "def mu_sigma(x_k,sigma_k):\n",
    "    w_k = sigma_k**-2\n",
    "    mu = np.sum(x_k*w_k)/np.sum(w_k)\n",
    "    sigma = np.sum(w_k)**(-1/2)\n",
    "    return mu,sigma"
   ]
  },
  {
   "cell_type": "code",
   "execution_count": 3,
   "metadata": {},
   "outputs": [
    {
     "name": "stdout",
     "output_type": "stream",
     "text": [
      "(6.55130727330383, 0.47921519946275637)\n"
     ]
    }
   ],
   "source": [
    "mu = np.linspace(-20,20,1000)\n",
    "#x_k = np.linspace(-10,15,10)\n",
    "x_k = np.random.normal(loc=5.9,scale=0.8,size=20)\n",
    "#x_k = np.array([4.6, 6.0, 2.0, 5.8])\n",
    "#sigma_k = np.array( [2.0, 1.5, 5.0, 1.0])\n",
    "sigma_k = np.linspace(1,5,len(x_k))\n",
    "\n",
    "\n",
    "log_V = np.zeros(len(mu))\n",
    "\n",
    "#print(verosimilitud(x_k[10],mu,sigma_k[10]))\n",
    "\n",
    "for i in range(len(x_k)):\n",
    "    log_V += np.log(verosimilitud(x_k[i],mu,sigma_k[i]))\n",
    "    #print(V_i)\n",
    "\n",
    "log_pos = log_V + np.log(prior(mu))\n",
    "log_evidencia = np.amax(log_pos)\n",
    "\n",
    "log_pos = log_pos-log_evidencia\n",
    "posterior = np.exp(log_pos)\n",
    "posterior = posterior/np.trapz(posterior,mu)\n",
    "\n",
    "# Método 'manual' ---------------------------------------------\n",
    "cero = np.argmax(log_pos)\n",
    "mu_0 = mu[cero]\n",
    "d2 = (log_pos[cero+1] - 2*log_pos[cero] + log_pos[cero-1]) / ((mu[cero]-mu[cero-1])**2)\n",
    "sigma_0 = (-d2)**(-1/2)\n",
    "\n",
    "# Método directo ----------------------------------------------\n",
    "#mu_0,sigma_0 = mu_sigma(x_k,sigma_k)\n",
    "print(mu_sigma(x_k,sigma_k))"
   ]
  },
  {
   "cell_type": "code",
   "execution_count": 4,
   "metadata": {},
   "outputs": [
    {
     "name": "stdout",
     "output_type": "stream",
     "text": [
      "20000\n"
     ]
    }
   ],
   "source": [
    "lista = [np.mean(x_k)]\n",
    "\n",
    "N = 20000\n",
    "for i in range(1,N):\n",
    "    propuesta_mu  = lista[i-1] + np.random.normal(loc=0, scale=5E-1)\n",
    "    \n",
    "    likely_nuevo = np.sum(np.log(verosimilitud(x_k,propuesta_mu,sigma_k)))\n",
    "    likely_viejo = np.sum(np.log(verosimilitud(x_k,lista[i-1],sigma_k)))\n",
    "    \n",
    "    \n",
    "    r = min(0,likely_nuevo-likely_viejo);\n",
    "    alpha = np.random.random()\n",
    "    if(alpha<=np.exp(r)):\n",
    "        lista.append(propuesta_mu)\n",
    "    else:\n",
    "        lista.append(lista[i-1])\n",
    "        \n",
    "z = np.array(lista)\n",
    "print(z.size)"
   ]
  },
  {
   "cell_type": "code",
   "execution_count": 5,
   "metadata": {},
   "outputs": [
    {
     "data": {
      "text/plain": [
       "(array([1.37882277e-03, 0.00000000e+00, 3.44705691e-03, 2.06823415e-03,\n",
       "        2.06823415e-03, 3.44705691e-03, 1.17199935e-02, 1.37882277e-02,\n",
       "        2.55082212e-02, 3.10235122e-02, 4.96376195e-02, 6.54940813e-02,\n",
       "        8.06611318e-02, 9.92752391e-02, 1.32366985e-01, 1.86830485e-01,\n",
       "        2.50945743e-01, 2.97136306e-01, 3.93653899e-01, 4.23298589e-01,\n",
       "        4.85345613e-01, 5.80484384e-01, 6.96305496e-01, 7.32154888e-01,\n",
       "        7.66625457e-01, 8.39703064e-01, 8.44528944e-01, 9.10712436e-01,\n",
       "        7.51458407e-01, 7.30086654e-01, 7.39049002e-01, 7.00441965e-01,\n",
       "        5.72900859e-01, 4.79140911e-01, 4.41912696e-01, 3.53668039e-01,\n",
       "        2.85416312e-01, 2.15096351e-01, 1.93035187e-01, 1.05479942e-01,\n",
       "        9.58281822e-02, 5.58423220e-02, 4.41223285e-02, 3.10235122e-02,\n",
       "        2.48188098e-02, 1.37882277e-02, 1.03411707e-02, 1.24094049e-02,\n",
       "        6.89411383e-04, 2.06823415e-03]),\n",
       " array([4.59171693, 4.66424256, 4.7367682 , 4.80929384, 4.88181948,\n",
       "        4.95434511, 5.02687075, 5.09939639, 5.17192203, 5.24444766,\n",
       "        5.3169733 , 5.38949894, 5.46202458, 5.53455021, 5.60707585,\n",
       "        5.67960149, 5.75212713, 5.82465276, 5.8971784 , 5.96970404,\n",
       "        6.04222968, 6.11475531, 6.18728095, 6.25980659, 6.33233223,\n",
       "        6.40485786, 6.4773835 , 6.54990914, 6.62243478, 6.69496041,\n",
       "        6.76748605, 6.84001169, 6.91253733, 6.98506296, 7.0575886 ,\n",
       "        7.13011424, 7.20263988, 7.27516551, 7.34769115, 7.42021679,\n",
       "        7.49274243, 7.56526806, 7.6377937 , 7.71031934, 7.78284498,\n",
       "        7.85537061, 7.92789625, 8.00042189, 8.07294753, 8.14547316,\n",
       "        8.2179988 ]),\n",
       " <a list of 50 Patch objects>)"
      ]
     },
     "execution_count": 5,
     "metadata": {},
     "output_type": "execute_result"
    },
    {
     "data": {
      "image/png": "[encoded data removed]",
      "text/plain": [
       "<Figure size 432x288 with 1 Axes>"
      ]
     },
     "metadata": {
      "needs_background": "light"
     },
     "output_type": "display_data"
    }
   ],
   "source": [
    "plt.figure()\n",
    "plt.plot(mu,posterior)\n",
    "plt.xlabel(r'$\\mu$'.format())\n",
    "plt.ylabel('Probabilidad posterior')\n",
    "plt.xlim(0,10)\n",
    "plt.title(r'$\\mu$ = {:.2f} $\\pm$ {:.2f}'.format(mu_0,sigma_0))\n",
    "\n",
    "#plt.figure()\n",
    "plt.hist(z,bins=50,rwidth=5,density=True)\n",
    "#plt.xlim(0,10)"
   ]
  },
  {
   "cell_type": "code",
   "execution_count": null,
   "metadata": {},
   "outputs": [],
   "source": []
  },
  {
   "cell_type": "code",
   "execution_count": null,
   "metadata": {},
   "outputs": [],
   "source": []
  }
 ],
 "metadata": {
  "kernelspec": {
   "display_name": "Python 3",
   "language": "python",
   "name": "python3"
  },
  "language_info": {
   "codemirror_mode": {
    "name": "ipython",
    "version": 3
   },
   "file_extension": ".py",
   "mimetype": "text/x-python",
   "name": "python",
   "nbconvert_exporter": "python",
   "pygments_lexer": "ipython3",
   "version": "3.7.6"
  }
 },
 "nbformat": 4,
 "nbformat_minor": 4
}
