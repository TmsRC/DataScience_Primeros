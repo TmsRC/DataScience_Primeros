{
 "cells": [
  {
   "cell_type": "code",
   "execution_count": 1,
   "metadata": {},
   "outputs": [],
   "source": [
    "import numpy as np\n",
    "import matplotlib.pyplot as plt"
   ]
  },
  {
   "cell_type": "code",
   "execution_count": 2,
   "metadata": {},
   "outputs": [],
   "source": [
    "def prior(mu):\n",
    "    return np.ones(len(mu))\n",
    "\n",
    "def verosimilitud(x,mu,sigma):\n",
    "    norm = 1/(2*np.pi*sigma**2)**(1/2)\n",
    "    return np.exp(-(x-mu)**2/(2*sigma**2))*norm\n",
    "\n",
    "def mu_sigma(x_k,sigma_k):\n",
    "    w_k = sigma_k**-2\n",
    "    mu = np.sum(x_k*w_k)/np.sum(w_k)\n",
    "    sigma = np.sum(w_k)**(-1/2)\n",
    "    return mu,sigma"
   ]
  },
  {
   "cell_type": "code",
   "execution_count": 20,
   "metadata": {},
   "outputs": [
    {
     "name": "stdout",
     "output_type": "stream",
     "text": [
      "(5.930176246316781, 0.47921519946275637)\n"
     ]
    }
   ],
   "source": [
    "mu = np.linspace(-20,20,1000)\n",
    "#x_k = np.linspace(-10,15,10)\n",
    "x_k = np.random.normal(loc=5.9,scale=0.8,size=20)\n",
    "#x_k = np.array([4.6, 6.0, 2.0, 5.8])\n",
    "#sigma_k = np.array( [2.0, 1.5, 5.0, 1.0])\n",
    "sigma_k = np.linspace(1,5,len(x_k))\n",
    "\n",
    "\n",
    "log_V = np.zeros(len(mu))\n",
    "\n",
    "#print(verosimilitud(x_k[10],mu,sigma_k[10]))\n",
    "\n",
    "for i in range(len(x_k)):\n",
    "    log_V += np.log(verosimilitud(x_k[i],mu,sigma_k[i]))\n",
    "    #print(V_i)\n",
    "\n",
    "log_pos = log_V + np.log(prior(mu))\n",
    "log_evidencia = np.amax(log_pos)\n",
    "\n",
    "log_pos = log_pos-log_evidencia\n",
    "posterior = np.exp(log_pos)\n",
    "posterior = posterior/np.trapz(posterior,mu)\n",
    "\n",
    "# Método 'manual' ---------------------------------------------\n",
    "cero = np.argmax(log_pos)\n",
    "mu_0 = mu[cero]\n",
    "d2 = (log_pos[cero+1] - 2*log_pos[cero] + log_pos[cero-1]) / ((mu[cero]-mu[cero-1])**2)\n",
    "sigma_0 = (-d2)**(-1/2)\n",
    "\n",
    "# Método directo ----------------------------------------------\n",
    "#mu_0,sigma_0 = mu_sigma(x_k,sigma_k)\n",
    "print(mu_sigma(x_k,sigma_k))"
   ]
  },
  {
   "cell_type": "code",
   "execution_count": 21,
   "metadata": {},
   "outputs": [
    {
     "name": "stdout",
     "output_type": "stream",
     "text": [
      "20000\n"
     ]
    }
   ],
   "source": [
    "lista = [np.mean(x_k)]\n",
    "\n",
    "N = 20000\n",
    "for i in range(1,N):\n",
    "    propuesta_mu  = lista[i-1] + np.random.normal(loc=0, scale=5E-1)\n",
    "    \n",
    "    likely_nuevo = np.sum(np.log(verosimilitud(x_k,propuesta_mu,sigma_k)))\n",
    "    likely_nuevo = likely_nuevo\n",
    "    likely_viejo = np.sum(np.log(verosimilitud(x_k,lista[i-1],sigma_k)))\n",
    "    likely_viejo = likely_viejo\n",
    "    \n",
    "    r = min(0,likely_nuevo-likely_viejo);\n",
    "    alpha = np.random.random()\n",
    "    if(alpha<=np.exp(r)):\n",
    "        lista.append(propuesta_mu)\n",
    "    else:\n",
    "        lista.append(lista[i-1])\n",
    "        \n",
    "z = np.array(lista)\n",
    "print(z.size)"
   ]
  },
  {
   "cell_type": "code",
   "execution_count": 19,
   "metadata": {},
   "outputs": [
    {
     "data": {
      "text/plain": [
       "(array([0.00090085, 0.00090085, 0.00135127, 0.00225212, 0.00270255,\n",
       "        0.00450425, 0.00630595, 0.01531445, 0.02432295, 0.03333145,\n",
       "        0.04774505, 0.06260907, 0.07837394, 0.11756092, 0.13783004,\n",
       "        0.18467424, 0.21169973, 0.24638246, 0.3103428 , 0.4004278 ,\n",
       "        0.36889805, 0.45492922, 0.47700004, 0.50402554, 0.50807936,\n",
       "        0.50762894, 0.51438531, 0.52249296, 0.51393489, 0.47204536,\n",
       "        0.40403119, 0.36484422, 0.3283598 , 0.24818416, 0.19953826,\n",
       "        0.19233146, 0.15494619, 0.09549009, 0.09143627, 0.05990652,\n",
       "        0.04233995, 0.03198017, 0.02432295, 0.0162153 , 0.01126062,\n",
       "        0.00450425, 0.00225212, 0.00090085, 0.0018017 , 0.00090085]),\n",
       " array([2.74819717, 2.85920345, 2.97020973, 3.08121601, 3.19222229,\n",
       "        3.30322857, 3.41423485, 3.52524113, 3.63624741, 3.74725369,\n",
       "        3.85825997, 3.96926625, 4.08027253, 4.19127881, 4.30228509,\n",
       "        4.41329137, 4.52429765, 4.63530393, 4.74631021, 4.85731649,\n",
       "        4.96832277, 5.07932905, 5.19033533, 5.30134161, 5.41234789,\n",
       "        5.52335417, 5.63436045, 5.74536673, 5.85637301, 5.96737929,\n",
       "        6.07838557, 6.18939185, 6.30039813, 6.41140441, 6.52241069,\n",
       "        6.63341697, 6.74442325, 6.85542953, 6.96643581, 7.07744209,\n",
       "        7.18844837, 7.29945465, 7.41046093, 7.52146721, 7.63247349,\n",
       "        7.74347977, 7.85448605, 7.96549233, 8.07649861, 8.18750489,\n",
       "        8.29851117]),\n",
       " <a list of 50 Patch objects>)"
      ]
     },
     "execution_count": 19,
     "metadata": {},
     "output_type": "execute_result"
    },
    {
     "data": {
      "image/png": "[encoded data removed]",
      "text/plain": [
       "<Figure size 432x288 with 1 Axes>"
      ]
     },
     "metadata": {
      "needs_background": "light"
     },
     "output_type": "display_data"
    }
   ],
   "source": [
    "plt.figure()\n",
    "plt.plot(mu,posterior)\n",
    "plt.xlabel(r'$\\mu$'.format())\n",
    "plt.ylabel('Probabilidad posterior')\n",
    "plt.xlim(0,10)\n",
    "plt.title(r'$\\mu$ = {:.2f} $\\pm$ {:.2f}'.format(mu_0,sigma_0))\n",
    "\n",
    "#plt.figure()\n",
    "plt.hist(z,bins=50,rwidth=5,density=True)\n",
    "#plt.xlim(0,10)"
   ]
  },
  {
   "cell_type": "code",
   "execution_count": null,
   "metadata": {},
   "outputs": [],
   "source": []
  },
  {
   "cell_type": "code",
   "execution_count": null,
   "metadata": {},
   "outputs": [],
   "source": []
  }
 ],
 "metadata": {
  "kernelspec": {
   "display_name": "Python 3",
   "language": "python",
   "name": "python3"
  },
  "language_info": {
   "codemirror_mode": {
    "name": "ipython",
    "version": 3
   },
   "file_extension": ".py",
   "mimetype": "text/x-python",
   "name": "python",
   "nbconvert_exporter": "python",
   "pygments_lexer": "ipython3",
   "version": "3.7.6"
  }
 },
 "nbformat": 4,
 "nbformat_minor": 4
}
