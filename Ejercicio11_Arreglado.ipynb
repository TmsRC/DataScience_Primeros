{
 "cells": [
  {
   "cell_type": "code",
   "execution_count": 1,
   "metadata": {},
   "outputs": [
    {
     "name": "stdout",
     "output_type": "stream",
     "text": [
      "(1797, 8, 8) 1797\n",
      "(1797, 64)\n"
     ]
    }
   ],
   "source": [
    "import matplotlib.pyplot as plt\n",
    "import sklearn.datasets as skdata\n",
    "import numpy as np\n",
    "\n",
    "from sklearn.preprocessing import StandardScaler\n",
    "from sklearn.model_selection import train_test_split\n",
    "from sklearn.discriminant_analysis import LinearDiscriminantAnalysis\n",
    "from sklearn import metrics\n",
    "\n",
    "\n",
    "numeros = skdata.load_digits()\n",
    "target = numeros['target']\n",
    "imagenes = numeros['images']\n",
    "n_imagenes = len(target)\n",
    "print(np.shape(imagenes), n_imagenes)\n",
    "\n",
    "\n",
    "data = imagenes.reshape((n_imagenes, -1)) # para volver a tener los datos como imagen basta hacer data.reshape((n_imagenes, 8, 8))\n",
    "print(np.shape(data))\n",
    "\n",
    "\n",
    "scaler = StandardScaler()\n",
    "x_train, x_test, y_train, y_test = train_test_split(data, target, train_size=0.5)\n",
    "\n",
    "\n",
    "x_train = scaler.fit_transform(x_train)\n",
    "x_test = scaler.transform(x_test)"
   ]
  },
  {
   "cell_type": "code",
   "execution_count": 2,
   "metadata": {},
   "outputs": [],
   "source": [
    "numero = 1\n",
    "dd = y_train==numero\n",
    "cov = np.cov(x_train[dd].T)\n",
    "valores, vectores = np.linalg.eig(cov)\n",
    "valores = np.real(valores)\n",
    "vectores = np.real(vectores)\n",
    "ii = np.argsort(-valores)\n",
    "valores = valores[ii]\n",
    "vectores = vectores[:,ii]\n",
    "\n",
    "\n",
    "\n",
    "verdaderos_train = 1.0*(y_train==1)\n",
    "verdaderos_test = 1.0*(y_test==1)\n",
    "\n",
    "proyeccion_train = np.matmul(x_train,vectores)\n",
    "proyeccion_test = np.matmul(x_test,vectores)\n",
    "discriminante = LinearDiscriminantAnalysis()"
   ]
  },
  {
   "cell_type": "code",
   "execution_count": 3,
   "metadata": {},
   "outputs": [],
   "source": [
    "def darF1(numComponentes):    \n",
    "    discriminante.fit(proyeccion_train[:,:numComponentes],1.0*(y_train==1))\n",
    "    \n",
    "    probabilidades = discriminante.predict_proba(proyeccion_test[:,:numComponentes])\n",
    "    precision, recall, th = metrics.precision_recall_curve(verdaderos_test,probabilidades[:,1])\n",
    "    f1 = 2*(precision*recall)/(precision+recall)\n",
    "    scoreTest = np.amax(f1)\n",
    "    \n",
    "        \n",
    "    probabilidades = discriminante.predict_proba(proyeccion_train[:,:numComponentes])\n",
    "    precision, recall, th = metrics.precision_recall_curve(verdaderos_train,probabilidades[:,1])\n",
    "    f1 = 2*(precision*recall)/(precision+recall)\n",
    "    scoreTrain = np.amax(f1)\n",
    "    \n",
    "    return scoreTrain,scoreTest\n",
    "\n",
    "def darF1_otros(numComponentes):    \n",
    "    discriminante.fit(proyeccion_train[:,:numComponentes],1.0*(y_train!=1))\n",
    "    \n",
    "    probabilidades = discriminante.predict_proba(proyeccion_test[:,:numComponentes])\n",
    "    precision, recall, th = metrics.precision_recall_curve(1-verdaderos_test,probabilidades[:,1])\n",
    "    f1 = 2*(precision*recall)/(precision+recall)\n",
    "    scoreTest = np.amax(f1)\n",
    "    \n",
    "        \n",
    "    probabilidades = discriminante.predict_proba(proyeccion_train[:,:numComponentes])\n",
    "    precision, recall, th = metrics.precision_recall_curve(1-verdaderos_train,probabilidades[:,1])\n",
    "    f1 = 2*(precision*recall)/(precision+recall)\n",
    "    scoreTrain = np.amax(f1)\n",
    "    \n",
    "    return scoreTrain,scoreTest"
   ]
  },
  {
   "cell_type": "code",
   "execution_count": 5,
   "metadata": {},
   "outputs": [
    {
     "data": {
      "image/png": "[encoded data removed]",
      "text/plain": [
       "<Figure size 432x288 with 2 Axes>"
      ]
     },
     "metadata": {
      "needs_background": "light"
     },
     "output_type": "display_data"
    }
   ],
   "source": [
    "import warnings\n",
    "warnings.filterwarnings('ignore')\n",
    "\n",
    "fig,ax = plt.subplots(1,2)\n",
    "for i in range(1,61):\n",
    "    f1_train,f1_test = darF1(i)\n",
    "    ax[0].scatter(i,f1_train,c='r')\n",
    "    ax[0].scatter(i,f1_test,c='b')  \n",
    "    ax[0].set_xlabel('Número de componentes')\n",
    "    ax[0].set_ylabel('F1 Score')\n",
    "    ax[0].set_title('Clasificación UNOS')\n",
    "\n",
    "for i in range(1,61):\n",
    "    f1_train,f1_test = darF1_otros(i)\n",
    "    ax[1].scatter(i,f1_train,c='r')\n",
    "    ax[1].scatter(i,f1_test,c='b')\n",
    "    ax[1].set_xlabel('Número de componentes')\n",
    "    ax[1].set_ylabel('F1 Score')\n",
    "    ax[1].set_title('Clasificación OTROS')\n",
    "    \n",
    "\n",
    "fig.tight_layout()\n",
    "fig.savefig('grafica_F1.png')"
   ]
  },
  {
   "cell_type": "code",
   "execution_count": null,
   "metadata": {},
   "outputs": [],
   "source": []
  }
 ],
 "metadata": {
  "kernelspec": {
   "display_name": "Python 3",
   "language": "python",
   "name": "python3"
  },
  "language_info": {
   "codemirror_mode": {
    "name": "ipython",
    "version": 3
   },
   "file_extension": ".py",
   "mimetype": "text/x-python",
   "name": "python",
   "nbconvert_exporter": "python",
   "pygments_lexer": "ipython3",
   "version": "3.7.6"
  }
 },
 "nbformat": 4,
 "nbformat_minor": 4
}
