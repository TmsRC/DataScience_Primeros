{
 "cells": [
  {
   "cell_type": "code",
   "execution_count": 1,
   "metadata": {},
   "outputs": [],
   "source": [
    "import numpy as np\n",
    "import matplotlib.pyplot as plt\n",
    "from scipy import stats"
   ]
  },
  {
   "cell_type": "code",
   "execution_count": 2,
   "metadata": {},
   "outputs": [],
   "source": [
    "def prior(alfa,alfa_min=-5,alfa_max=5):\n",
    "    return 1*(alfa>=alfa_min)*(alfa<=alfa_max)\n",
    "\n",
    "def verosimilitud(x,alfa,beta=1):\n",
    "    const = beta/np.pi\n",
    "    den = beta**2+(x-alfa)**2\n",
    "    return const/den"
   ]
  },
  {
   "cell_type": "code",
   "execution_count": 3,
   "metadata": {},
   "outputs": [
    {
     "name": "stderr",
     "output_type": "stream",
     "text": [
      "/srv/conda/envs/notebook/lib/python3.7/site-packages/ipykernel_launcher.py:10: RuntimeWarning: divide by zero encountered in log\n",
      "  # Remove the CWD from sys.path while we load stuff.\n"
     ]
    }
   ],
   "source": [
    "alfa = np.linspace(-6,6,10000)\n",
    "#x = np.linspace(0,1,4)\n",
    "x = stats.cauchy.rvs(loc=1,scale=1,size=2000)\n",
    "#x = 3*np.ones(10000)\n",
    "\n",
    "log_V = np.zeros(len(alfa))\n",
    "for x_i in x:\n",
    "    log_V+=np.log(verosimilitud(x_i,alfa))\n",
    "\n",
    "log_pos = np.log(prior(alfa))+log_V\n",
    "log_evidencia = np.amax(log_pos)\n",
    "log_pos = log_pos-log_evidencia\n",
    "posterior = np.exp(log_pos)\n",
    "posterior = posterior/np.trapz(posterior,alfa)\n",
    "\n",
    "media = np.mean(x)\n",
    "cero = np.argmax(posterior)\n",
    "mu = alfa[cero]\n",
    "d2 = (log_pos[cero+1] - 2*log_pos[cero] + log_pos[cero-1]) / ((alfa[1]-alfa[0])**2)\n",
    "sigma = (-d2)**(-1/2)"
   ]
  },
  {
   "cell_type": "code",
   "execution_count": null,
   "metadata": {},
   "outputs": [
    {
     "name": "stdout",
     "output_type": "stream",
     "text": [
      "1.0027002700270033 0.03217802457256403\n"
     ]
    },
    {
     "data": {
      "text/plain": [
       "(-500, 500)"
      ]
     },
     "execution_count": 13,
     "metadata": {},
     "output_type": "execute_result"
    }
   ],
   "source": [
    "print(mu,sigma)\n",
    "\n",
    "plt.figure()\n",
    "plt.plot(alfa,posterior)\n",
    "plt.plot(np.ones(100)*media,np.linspace(0,posterior[cero],100))\n",
    "\n",
    "plt.figure()\n",
    "plt.hist(x,rwidth=0.1)\n",
    "plt.xlim(-500,500)"
   ]
  },
  {
   "cell_type": "code",
   "execution_count": null,
   "metadata": {},
   "outputs": [],
   "source": []
  }
 ],
 "metadata": {
  "kernelspec": {
   "display_name": "Python 3",
   "language": "python",
   "name": "python3"
  },
  "language_info": {
   "codemirror_mode": {
    "name": "ipython",
    "version": 3
   },
   "file_extension": ".py",
   "mimetype": "text/x-python",
   "name": "python",
   "nbconvert_exporter": "python",
   "pygments_lexer": "ipython3",
   "version": "3.7.6"
  }
 },
 "nbformat": 4,
 "nbformat_minor": 4
}
