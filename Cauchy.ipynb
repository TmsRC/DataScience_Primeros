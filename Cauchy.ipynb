{
 "cells": [
  {
   "cell_type": "code",
   "execution_count": 13,
   "metadata": {},
   "outputs": [],
   "source": [
    "import numpy as np\n",
    "import matplotlib.pyplot as plt"
   ]
  },
  {
   "cell_type": "code",
   "execution_count": 14,
   "metadata": {},
   "outputs": [],
   "source": [
    "def prior(alfa,alfa_min=-5,alfa_max=5):\n",
    "    return 1*(alfa>=alfa_min)*(alfa<=alfa_max)\n",
    "\n",
    "def verosimilitud(x,alfa,beta=1):\n",
    "    const = beta/np.pi\n",
    "    den = beta**2+(x-alfa)**2\n",
    "    return const/den"
   ]
  },
  {
   "cell_type": "code",
   "execution_count": 28,
   "metadata": {},
   "outputs": [
    {
     "name": "stderr",
     "output_type": "stream",
     "text": [
      "/srv/conda/envs/notebook/lib/python3.7/site-packages/ipykernel_launcher.py:8: RuntimeWarning: divide by zero encountered in log\n",
      "  \n"
     ]
    }
   ],
   "source": [
    "alfa = np.linspace(-6,6,10000)\n",
    "x = np.linspace(0,1,200)\n",
    "#x = 90*np.ones(100000)\n",
    "log_V = np.zeros(len(alfa))\n",
    "for x_i in x:\n",
    "    log_V+=np.log(verosimilitud(x_i,alfa))\n",
    "\n",
    "log_pos = np.log(prior(alfa))+log_V\n",
    "#evidencia = np.trapz(posterior,alfa)\n",
    "\n",
    "#posterior = posterior/evidencia\n",
    "\n",
    "puntoCero = np.argmax(log_pos)\n",
    "#d2 = (y[puntoCero+1] - 2*y[puntoCero] + y[puntoCero-1]) / ((alfa[1]-alfa[0])**2)"
   ]
  },
  {
   "cell_type": "code",
   "execution_count": 29,
   "metadata": {},
   "outputs": [
    {
     "data": {
      "text/plain": [
       "[<matplotlib.lines.Line2D at 0x7fcd75f25a50>]"
      ]
     },
     "execution_count": 29,
     "metadata": {},
     "output_type": "execute_result"
    },
    {
     "data": {
      "image/png": "[encoded data removed]",
      "text/plain": [
       "<Figure size 432x288 with 1 Axes>"
      ]
     },
     "metadata": {
      "needs_background": "light"
     },
     "output_type": "display_data"
    }
   ],
   "source": [
    "plt.figure()\n",
    "plt.plot(alfa,np.exp(log_pos))"
   ]
  },
  {
   "cell_type": "code",
   "execution_count": null,
   "metadata": {},
   "outputs": [],
   "source": []
  }
 ],
 "metadata": {
  "kernelspec": {
   "display_name": "Python 3",
   "language": "python",
   "name": "python3"
  },
  "language_info": {
   "codemirror_mode": {
    "name": "ipython",
    "version": 3
   },
   "file_extension": ".py",
   "mimetype": "text/x-python",
   "name": "python",
   "nbconvert_exporter": "python",
   "pygments_lexer": "ipython3",
   "version": "3.7.6"
  }
 },
 "nbformat": 4,
 "nbformat_minor": 4
}
